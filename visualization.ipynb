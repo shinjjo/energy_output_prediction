{
 "cells": [
  {
   "cell_type": "code",
   "execution_count": 1,
   "metadata": {},
   "outputs": [],
   "source": [
    "from numpy import *\n",
    "import matplotlib.pyplot as plt  \n",
    "import scipy.linalg\n",
    "import pandas as pd\n",
    "import datetime\n",
    "import dateutil"
   ]
  },
  {
   "cell_type": "code",
   "execution_count": 2,
   "metadata": {},
   "outputs": [],
   "source": [
    "data = pd.read_csv('/home/shin/Documents/Data_mining/train.csv', sep = ',')"
   ]
  },
  {
   "cell_type": "code",
   "execution_count": 3,
   "metadata": {},
   "outputs": [
    {
     "data": {
      "text/plain": [
       "52508"
      ]
     },
     "execution_count": 3,
     "metadata": {},
     "output_type": "execute_result"
    }
   ],
   "source": [
    "len(data)"
   ]
  },
  {
   "cell_type": "code",
   "execution_count": 4,
   "metadata": {},
   "outputs": [
    {
     "data": {
      "text/html": [
       "<div>\n",
       "<style scoped>\n",
       "    .dataframe tbody tr th:only-of-type {\n",
       "        vertical-align: middle;\n",
       "    }\n",
       "\n",
       "    .dataframe tbody tr th {\n",
       "        vertical-align: top;\n",
       "    }\n",
       "\n",
       "    .dataframe thead th {\n",
       "        text-align: right;\n",
       "    }\n",
       "</style>\n",
       "<table border=\"1\" class=\"dataframe\">\n",
       "  <thead>\n",
       "    <tr style=\"text-align: right;\">\n",
       "      <th></th>\n",
       "      <th>Datum</th>\n",
       "      <th>Windgeschwindigkeit48M</th>\n",
       "      <th>Windgeschwindigkeit100M</th>\n",
       "      <th>Windgeschwindigkeit152M</th>\n",
       "      <th>Windrichtung48M</th>\n",
       "      <th>Windrichtung100M</th>\n",
       "      <th>Windrichtung152M</th>\n",
       "      <th>Windgeschwindigkeit100MP10</th>\n",
       "      <th>Windgeschwindigkeit100MP20</th>\n",
       "      <th>Windgeschwindigkeit100MP30</th>\n",
       "      <th>Windgeschwindigkeit100MP40</th>\n",
       "      <th>Windgeschwindigkeit100MP50</th>\n",
       "      <th>Windgeschwindigkeit100MP60</th>\n",
       "      <th>Windgeschwindigkeit100MP70</th>\n",
       "      <th>Windgeschwindigkeit100MP80</th>\n",
       "      <th>Windgeschwindigkeit100MP90</th>\n",
       "      <th>Interpoliert</th>\n",
       "      <th>Verfügbare_Kapazität</th>\n",
       "      <th>Output</th>\n",
       "    </tr>\n",
       "  </thead>\n",
       "  <tbody>\n",
       "    <tr>\n",
       "      <th>0</th>\n",
       "      <td>2016-01-01 00:00:00</td>\n",
       "      <td>8.490</td>\n",
       "      <td>10.7700</td>\n",
       "      <td>12.690</td>\n",
       "      <td>188.00</td>\n",
       "      <td>190.0</td>\n",
       "      <td>194.00</td>\n",
       "      <td>9.0700</td>\n",
       "      <td>9.630</td>\n",
       "      <td>10.060</td>\n",
       "      <td>10.43</td>\n",
       "      <td>10.78</td>\n",
       "      <td>11.0500</td>\n",
       "      <td>11.5400</td>\n",
       "      <td>11.940</td>\n",
       "      <td>12.4200</td>\n",
       "      <td>0</td>\n",
       "      <td>122400.0</td>\n",
       "      <td>79168</td>\n",
       "    </tr>\n",
       "    <tr>\n",
       "      <th>1</th>\n",
       "      <td>2016-01-01 00:15:00</td>\n",
       "      <td>8.395</td>\n",
       "      <td>10.6175</td>\n",
       "      <td>12.475</td>\n",
       "      <td>190.75</td>\n",
       "      <td>193.0</td>\n",
       "      <td>196.75</td>\n",
       "      <td>9.0425</td>\n",
       "      <td>9.555</td>\n",
       "      <td>9.955</td>\n",
       "      <td>10.31</td>\n",
       "      <td>10.63</td>\n",
       "      <td>10.9275</td>\n",
       "      <td>11.3875</td>\n",
       "      <td>11.815</td>\n",
       "      <td>12.3125</td>\n",
       "      <td>1</td>\n",
       "      <td>122400.0</td>\n",
       "      <td>75124</td>\n",
       "    </tr>\n",
       "    <tr>\n",
       "      <th>2</th>\n",
       "      <td>2016-01-01 00:30:00</td>\n",
       "      <td>8.300</td>\n",
       "      <td>10.4650</td>\n",
       "      <td>12.260</td>\n",
       "      <td>193.50</td>\n",
       "      <td>196.0</td>\n",
       "      <td>199.50</td>\n",
       "      <td>9.0150</td>\n",
       "      <td>9.480</td>\n",
       "      <td>9.850</td>\n",
       "      <td>10.19</td>\n",
       "      <td>10.48</td>\n",
       "      <td>10.8050</td>\n",
       "      <td>11.2350</td>\n",
       "      <td>11.690</td>\n",
       "      <td>12.2050</td>\n",
       "      <td>1</td>\n",
       "      <td>122400.0</td>\n",
       "      <td>76072</td>\n",
       "    </tr>\n",
       "    <tr>\n",
       "      <th>3</th>\n",
       "      <td>2016-01-01 00:45:00</td>\n",
       "      <td>8.205</td>\n",
       "      <td>10.3125</td>\n",
       "      <td>12.045</td>\n",
       "      <td>196.25</td>\n",
       "      <td>199.0</td>\n",
       "      <td>202.25</td>\n",
       "      <td>8.9875</td>\n",
       "      <td>9.405</td>\n",
       "      <td>9.745</td>\n",
       "      <td>10.07</td>\n",
       "      <td>10.33</td>\n",
       "      <td>10.6825</td>\n",
       "      <td>11.0825</td>\n",
       "      <td>11.565</td>\n",
       "      <td>12.0975</td>\n",
       "      <td>1</td>\n",
       "      <td>122400.0</td>\n",
       "      <td>67964</td>\n",
       "    </tr>\n",
       "    <tr>\n",
       "      <th>4</th>\n",
       "      <td>2016-01-01 01:00:00</td>\n",
       "      <td>8.110</td>\n",
       "      <td>10.1600</td>\n",
       "      <td>11.830</td>\n",
       "      <td>199.00</td>\n",
       "      <td>202.0</td>\n",
       "      <td>205.00</td>\n",
       "      <td>8.9600</td>\n",
       "      <td>9.330</td>\n",
       "      <td>9.640</td>\n",
       "      <td>9.95</td>\n",
       "      <td>10.18</td>\n",
       "      <td>10.5600</td>\n",
       "      <td>10.9300</td>\n",
       "      <td>11.440</td>\n",
       "      <td>11.9900</td>\n",
       "      <td>0</td>\n",
       "      <td>122400.0</td>\n",
       "      <td>69988</td>\n",
       "    </tr>\n",
       "  </tbody>\n",
       "</table>\n",
       "</div>"
      ],
      "text/plain": [
       "                 Datum  Windgeschwindigkeit48M  Windgeschwindigkeit100M  \\\n",
       "0  2016-01-01 00:00:00                   8.490                  10.7700   \n",
       "1  2016-01-01 00:15:00                   8.395                  10.6175   \n",
       "2  2016-01-01 00:30:00                   8.300                  10.4650   \n",
       "3  2016-01-01 00:45:00                   8.205                  10.3125   \n",
       "4  2016-01-01 01:00:00                   8.110                  10.1600   \n",
       "\n",
       "   Windgeschwindigkeit152M  Windrichtung48M  Windrichtung100M  \\\n",
       "0                   12.690           188.00             190.0   \n",
       "1                   12.475           190.75             193.0   \n",
       "2                   12.260           193.50             196.0   \n",
       "3                   12.045           196.25             199.0   \n",
       "4                   11.830           199.00             202.0   \n",
       "\n",
       "   Windrichtung152M  Windgeschwindigkeit100MP10  Windgeschwindigkeit100MP20  \\\n",
       "0            194.00                      9.0700                       9.630   \n",
       "1            196.75                      9.0425                       9.555   \n",
       "2            199.50                      9.0150                       9.480   \n",
       "3            202.25                      8.9875                       9.405   \n",
       "4            205.00                      8.9600                       9.330   \n",
       "\n",
       "   Windgeschwindigkeit100MP30  Windgeschwindigkeit100MP40  \\\n",
       "0                      10.060                       10.43   \n",
       "1                       9.955                       10.31   \n",
       "2                       9.850                       10.19   \n",
       "3                       9.745                       10.07   \n",
       "4                       9.640                        9.95   \n",
       "\n",
       "   Windgeschwindigkeit100MP50  Windgeschwindigkeit100MP60  \\\n",
       "0                       10.78                     11.0500   \n",
       "1                       10.63                     10.9275   \n",
       "2                       10.48                     10.8050   \n",
       "3                       10.33                     10.6825   \n",
       "4                       10.18                     10.5600   \n",
       "\n",
       "   Windgeschwindigkeit100MP70  Windgeschwindigkeit100MP80  \\\n",
       "0                     11.5400                      11.940   \n",
       "1                     11.3875                      11.815   \n",
       "2                     11.2350                      11.690   \n",
       "3                     11.0825                      11.565   \n",
       "4                     10.9300                      11.440   \n",
       "\n",
       "   Windgeschwindigkeit100MP90  Interpoliert  Verfügbare_Kapazität  Output  \n",
       "0                     12.4200             0              122400.0   79168  \n",
       "1                     12.3125             1              122400.0   75124  \n",
       "2                     12.2050             1              122400.0   76072  \n",
       "3                     12.0975             1              122400.0   67964  \n",
       "4                     11.9900             0              122400.0   69988  "
      ]
     },
     "execution_count": 4,
     "metadata": {},
     "output_type": "execute_result"
    }
   ],
   "source": [
    "data.head()"
   ]
  },
  {
   "cell_type": "code",
   "execution_count": 5,
   "metadata": {},
   "outputs": [],
   "source": [
    "## Parsing Date and time (Seconds omited because they are all '0')\n",
    "\n",
    "date = data.Datum\n",
    "Year = []\n",
    "Month = []\n",
    "Day = []\n",
    "Hour = []\n",
    "Minute = []\n",
    "for i in date:\n",
    "    dateparse = datetime.datetime.strptime(i, \"%Y-%m-%d %H:%M:%S\")\n",
    "    Year.append(dateparse.year)\n",
    "    Month.append(dateparse.month)\n",
    "    Day.append(dateparse.day)\n",
    "    Hour.append(dateparse.hour)\n",
    "    Minute.append(dateparse.minute)\n",
    "data.insert(0, 'Year', Year)\n",
    "data.insert(1, 'Month', Month)\n",
    "data.insert(2, 'Day', Day)\n",
    "data.insert(3, 'Hour', Hour)\n",
    "data.insert(4, 'Min', Minute)\n",
    "data = data.drop(['Datum'], axis = 1)"
   ]
  },
  {
   "cell_type": "code",
   "execution_count": 6,
   "metadata": {},
   "outputs": [
    {
     "data": {
      "text/html": [
       "<div>\n",
       "<style scoped>\n",
       "    .dataframe tbody tr th:only-of-type {\n",
       "        vertical-align: middle;\n",
       "    }\n",
       "\n",
       "    .dataframe tbody tr th {\n",
       "        vertical-align: top;\n",
       "    }\n",
       "\n",
       "    .dataframe thead th {\n",
       "        text-align: right;\n",
       "    }\n",
       "</style>\n",
       "<table border=\"1\" class=\"dataframe\">\n",
       "  <thead>\n",
       "    <tr style=\"text-align: right;\">\n",
       "      <th></th>\n",
       "      <th>Year</th>\n",
       "      <th>Month</th>\n",
       "      <th>Day</th>\n",
       "      <th>Hour</th>\n",
       "      <th>Min</th>\n",
       "      <th>Windgeschwindigkeit48M</th>\n",
       "      <th>Windgeschwindigkeit100M</th>\n",
       "      <th>Windgeschwindigkeit152M</th>\n",
       "      <th>Windrichtung48M</th>\n",
       "      <th>Windrichtung100M</th>\n",
       "      <th>...</th>\n",
       "      <th>Windgeschwindigkeit100MP30</th>\n",
       "      <th>Windgeschwindigkeit100MP40</th>\n",
       "      <th>Windgeschwindigkeit100MP50</th>\n",
       "      <th>Windgeschwindigkeit100MP60</th>\n",
       "      <th>Windgeschwindigkeit100MP70</th>\n",
       "      <th>Windgeschwindigkeit100MP80</th>\n",
       "      <th>Windgeschwindigkeit100MP90</th>\n",
       "      <th>Interpoliert</th>\n",
       "      <th>Verfügbare_Kapazität</th>\n",
       "      <th>Output</th>\n",
       "    </tr>\n",
       "  </thead>\n",
       "  <tbody>\n",
       "    <tr>\n",
       "      <th>0</th>\n",
       "      <td>2016</td>\n",
       "      <td>1</td>\n",
       "      <td>1</td>\n",
       "      <td>0</td>\n",
       "      <td>0</td>\n",
       "      <td>8.490</td>\n",
       "      <td>10.7700</td>\n",
       "      <td>12.690</td>\n",
       "      <td>188.00</td>\n",
       "      <td>190.0</td>\n",
       "      <td>...</td>\n",
       "      <td>10.060</td>\n",
       "      <td>10.43</td>\n",
       "      <td>10.78</td>\n",
       "      <td>11.0500</td>\n",
       "      <td>11.5400</td>\n",
       "      <td>11.940</td>\n",
       "      <td>12.4200</td>\n",
       "      <td>0</td>\n",
       "      <td>122400.0</td>\n",
       "      <td>79168</td>\n",
       "    </tr>\n",
       "    <tr>\n",
       "      <th>1</th>\n",
       "      <td>2016</td>\n",
       "      <td>1</td>\n",
       "      <td>1</td>\n",
       "      <td>0</td>\n",
       "      <td>15</td>\n",
       "      <td>8.395</td>\n",
       "      <td>10.6175</td>\n",
       "      <td>12.475</td>\n",
       "      <td>190.75</td>\n",
       "      <td>193.0</td>\n",
       "      <td>...</td>\n",
       "      <td>9.955</td>\n",
       "      <td>10.31</td>\n",
       "      <td>10.63</td>\n",
       "      <td>10.9275</td>\n",
       "      <td>11.3875</td>\n",
       "      <td>11.815</td>\n",
       "      <td>12.3125</td>\n",
       "      <td>1</td>\n",
       "      <td>122400.0</td>\n",
       "      <td>75124</td>\n",
       "    </tr>\n",
       "    <tr>\n",
       "      <th>2</th>\n",
       "      <td>2016</td>\n",
       "      <td>1</td>\n",
       "      <td>1</td>\n",
       "      <td>0</td>\n",
       "      <td>30</td>\n",
       "      <td>8.300</td>\n",
       "      <td>10.4650</td>\n",
       "      <td>12.260</td>\n",
       "      <td>193.50</td>\n",
       "      <td>196.0</td>\n",
       "      <td>...</td>\n",
       "      <td>9.850</td>\n",
       "      <td>10.19</td>\n",
       "      <td>10.48</td>\n",
       "      <td>10.8050</td>\n",
       "      <td>11.2350</td>\n",
       "      <td>11.690</td>\n",
       "      <td>12.2050</td>\n",
       "      <td>1</td>\n",
       "      <td>122400.0</td>\n",
       "      <td>76072</td>\n",
       "    </tr>\n",
       "    <tr>\n",
       "      <th>3</th>\n",
       "      <td>2016</td>\n",
       "      <td>1</td>\n",
       "      <td>1</td>\n",
       "      <td>0</td>\n",
       "      <td>45</td>\n",
       "      <td>8.205</td>\n",
       "      <td>10.3125</td>\n",
       "      <td>12.045</td>\n",
       "      <td>196.25</td>\n",
       "      <td>199.0</td>\n",
       "      <td>...</td>\n",
       "      <td>9.745</td>\n",
       "      <td>10.07</td>\n",
       "      <td>10.33</td>\n",
       "      <td>10.6825</td>\n",
       "      <td>11.0825</td>\n",
       "      <td>11.565</td>\n",
       "      <td>12.0975</td>\n",
       "      <td>1</td>\n",
       "      <td>122400.0</td>\n",
       "      <td>67964</td>\n",
       "    </tr>\n",
       "    <tr>\n",
       "      <th>4</th>\n",
       "      <td>2016</td>\n",
       "      <td>1</td>\n",
       "      <td>1</td>\n",
       "      <td>1</td>\n",
       "      <td>0</td>\n",
       "      <td>8.110</td>\n",
       "      <td>10.1600</td>\n",
       "      <td>11.830</td>\n",
       "      <td>199.00</td>\n",
       "      <td>202.0</td>\n",
       "      <td>...</td>\n",
       "      <td>9.640</td>\n",
       "      <td>9.95</td>\n",
       "      <td>10.18</td>\n",
       "      <td>10.5600</td>\n",
       "      <td>10.9300</td>\n",
       "      <td>11.440</td>\n",
       "      <td>11.9900</td>\n",
       "      <td>0</td>\n",
       "      <td>122400.0</td>\n",
       "      <td>69988</td>\n",
       "    </tr>\n",
       "  </tbody>\n",
       "</table>\n",
       "<p>5 rows × 23 columns</p>\n",
       "</div>"
      ],
      "text/plain": [
       "   Year  Month  Day  Hour  Min  Windgeschwindigkeit48M  \\\n",
       "0  2016      1    1     0    0                   8.490   \n",
       "1  2016      1    1     0   15                   8.395   \n",
       "2  2016      1    1     0   30                   8.300   \n",
       "3  2016      1    1     0   45                   8.205   \n",
       "4  2016      1    1     1    0                   8.110   \n",
       "\n",
       "   Windgeschwindigkeit100M  Windgeschwindigkeit152M  Windrichtung48M  \\\n",
       "0                  10.7700                   12.690           188.00   \n",
       "1                  10.6175                   12.475           190.75   \n",
       "2                  10.4650                   12.260           193.50   \n",
       "3                  10.3125                   12.045           196.25   \n",
       "4                  10.1600                   11.830           199.00   \n",
       "\n",
       "   Windrichtung100M   ...    Windgeschwindigkeit100MP30  \\\n",
       "0             190.0   ...                        10.060   \n",
       "1             193.0   ...                         9.955   \n",
       "2             196.0   ...                         9.850   \n",
       "3             199.0   ...                         9.745   \n",
       "4             202.0   ...                         9.640   \n",
       "\n",
       "   Windgeschwindigkeit100MP40  Windgeschwindigkeit100MP50  \\\n",
       "0                       10.43                       10.78   \n",
       "1                       10.31                       10.63   \n",
       "2                       10.19                       10.48   \n",
       "3                       10.07                       10.33   \n",
       "4                        9.95                       10.18   \n",
       "\n",
       "   Windgeschwindigkeit100MP60  Windgeschwindigkeit100MP70  \\\n",
       "0                     11.0500                     11.5400   \n",
       "1                     10.9275                     11.3875   \n",
       "2                     10.8050                     11.2350   \n",
       "3                     10.6825                     11.0825   \n",
       "4                     10.5600                     10.9300   \n",
       "\n",
       "   Windgeschwindigkeit100MP80  Windgeschwindigkeit100MP90  Interpoliert  \\\n",
       "0                      11.940                     12.4200             0   \n",
       "1                      11.815                     12.3125             1   \n",
       "2                      11.690                     12.2050             1   \n",
       "3                      11.565                     12.0975             1   \n",
       "4                      11.440                     11.9900             0   \n",
       "\n",
       "   Verfügbare_Kapazität  Output  \n",
       "0              122400.0   79168  \n",
       "1              122400.0   75124  \n",
       "2              122400.0   76072  \n",
       "3              122400.0   67964  \n",
       "4              122400.0   69988  \n",
       "\n",
       "[5 rows x 23 columns]"
      ]
     },
     "execution_count": 6,
     "metadata": {},
     "output_type": "execute_result"
    }
   ],
   "source": [
    "data.head()"
   ]
  },
  {
   "cell_type": "code",
   "execution_count": 7,
   "metadata": {},
   "outputs": [
    {
     "data": {
      "text/html": [
       "<div>\n",
       "<style scoped>\n",
       "    .dataframe tbody tr th:only-of-type {\n",
       "        vertical-align: middle;\n",
       "    }\n",
       "\n",
       "    .dataframe tbody tr th {\n",
       "        vertical-align: top;\n",
       "    }\n",
       "\n",
       "    .dataframe thead th {\n",
       "        text-align: right;\n",
       "    }\n",
       "</style>\n",
       "<table border=\"1\" class=\"dataframe\">\n",
       "  <thead>\n",
       "    <tr style=\"text-align: right;\">\n",
       "      <th></th>\n",
       "      <th>Year</th>\n",
       "      <th>Month</th>\n",
       "      <th>Day</th>\n",
       "      <th>Hour</th>\n",
       "      <th>Min</th>\n",
       "      <th>Windgeschwindigkeit48M</th>\n",
       "      <th>Windgeschwindigkeit100M</th>\n",
       "      <th>Windgeschwindigkeit152M</th>\n",
       "      <th>Windrichtung48M</th>\n",
       "      <th>Windrichtung100M</th>\n",
       "      <th>...</th>\n",
       "      <th>Windgeschwindigkeit100MP30</th>\n",
       "      <th>Windgeschwindigkeit100MP40</th>\n",
       "      <th>Windgeschwindigkeit100MP50</th>\n",
       "      <th>Windgeschwindigkeit100MP60</th>\n",
       "      <th>Windgeschwindigkeit100MP70</th>\n",
       "      <th>Windgeschwindigkeit100MP80</th>\n",
       "      <th>Windgeschwindigkeit100MP90</th>\n",
       "      <th>Interpoliert</th>\n",
       "      <th>Verfügbare_Kapazität</th>\n",
       "      <th>Output</th>\n",
       "    </tr>\n",
       "  </thead>\n",
       "  <tbody>\n",
       "    <tr>\n",
       "      <th>52503</th>\n",
       "      <td>2017</td>\n",
       "      <td>6</td>\n",
       "      <td>30</td>\n",
       "      <td>22</td>\n",
       "      <td>45</td>\n",
       "      <td>4.92</td>\n",
       "      <td>5.9475</td>\n",
       "      <td>6.58</td>\n",
       "      <td>269.25</td>\n",
       "      <td>271.25</td>\n",
       "      <td>...</td>\n",
       "      <td>5.4325</td>\n",
       "      <td>5.73</td>\n",
       "      <td>6.0125</td>\n",
       "      <td>6.2125</td>\n",
       "      <td>6.4175</td>\n",
       "      <td>6.7325</td>\n",
       "      <td>7.2175</td>\n",
       "      <td>1</td>\n",
       "      <td>119000.0</td>\n",
       "      <td>13688</td>\n",
       "    </tr>\n",
       "    <tr>\n",
       "      <th>52504</th>\n",
       "      <td>2017</td>\n",
       "      <td>6</td>\n",
       "      <td>30</td>\n",
       "      <td>23</td>\n",
       "      <td>0</td>\n",
       "      <td>5.03</td>\n",
       "      <td>6.0900</td>\n",
       "      <td>6.73</td>\n",
       "      <td>269.00</td>\n",
       "      <td>271.00</td>\n",
       "      <td>...</td>\n",
       "      <td>5.5700</td>\n",
       "      <td>5.87</td>\n",
       "      <td>6.1600</td>\n",
       "      <td>6.3600</td>\n",
       "      <td>6.5700</td>\n",
       "      <td>6.8700</td>\n",
       "      <td>7.3500</td>\n",
       "      <td>0</td>\n",
       "      <td>119000.0</td>\n",
       "      <td>17624</td>\n",
       "    </tr>\n",
       "    <tr>\n",
       "      <th>52505</th>\n",
       "      <td>2017</td>\n",
       "      <td>6</td>\n",
       "      <td>30</td>\n",
       "      <td>23</td>\n",
       "      <td>15</td>\n",
       "      <td>5.03</td>\n",
       "      <td>6.0900</td>\n",
       "      <td>6.73</td>\n",
       "      <td>269.00</td>\n",
       "      <td>271.00</td>\n",
       "      <td>...</td>\n",
       "      <td>5.5700</td>\n",
       "      <td>5.87</td>\n",
       "      <td>6.1600</td>\n",
       "      <td>6.3600</td>\n",
       "      <td>6.5700</td>\n",
       "      <td>6.8700</td>\n",
       "      <td>7.3500</td>\n",
       "      <td>1</td>\n",
       "      <td>119000.0</td>\n",
       "      <td>18528</td>\n",
       "    </tr>\n",
       "    <tr>\n",
       "      <th>52506</th>\n",
       "      <td>2017</td>\n",
       "      <td>6</td>\n",
       "      <td>30</td>\n",
       "      <td>23</td>\n",
       "      <td>30</td>\n",
       "      <td>5.03</td>\n",
       "      <td>6.0900</td>\n",
       "      <td>6.73</td>\n",
       "      <td>269.00</td>\n",
       "      <td>271.00</td>\n",
       "      <td>...</td>\n",
       "      <td>5.5700</td>\n",
       "      <td>5.87</td>\n",
       "      <td>6.1600</td>\n",
       "      <td>6.3600</td>\n",
       "      <td>6.5700</td>\n",
       "      <td>6.8700</td>\n",
       "      <td>7.3500</td>\n",
       "      <td>1</td>\n",
       "      <td>119000.0</td>\n",
       "      <td>15836</td>\n",
       "    </tr>\n",
       "    <tr>\n",
       "      <th>52507</th>\n",
       "      <td>2017</td>\n",
       "      <td>6</td>\n",
       "      <td>30</td>\n",
       "      <td>23</td>\n",
       "      <td>45</td>\n",
       "      <td>5.03</td>\n",
       "      <td>6.0900</td>\n",
       "      <td>6.73</td>\n",
       "      <td>269.00</td>\n",
       "      <td>271.00</td>\n",
       "      <td>...</td>\n",
       "      <td>5.5700</td>\n",
       "      <td>5.87</td>\n",
       "      <td>6.1600</td>\n",
       "      <td>6.3600</td>\n",
       "      <td>6.5700</td>\n",
       "      <td>6.8700</td>\n",
       "      <td>7.3500</td>\n",
       "      <td>1</td>\n",
       "      <td>119000.0</td>\n",
       "      <td>15712</td>\n",
       "    </tr>\n",
       "  </tbody>\n",
       "</table>\n",
       "<p>5 rows × 23 columns</p>\n",
       "</div>"
      ],
      "text/plain": [
       "       Year  Month  Day  Hour  Min  Windgeschwindigkeit48M  \\\n",
       "52503  2017      6   30    22   45                    4.92   \n",
       "52504  2017      6   30    23    0                    5.03   \n",
       "52505  2017      6   30    23   15                    5.03   \n",
       "52506  2017      6   30    23   30                    5.03   \n",
       "52507  2017      6   30    23   45                    5.03   \n",
       "\n",
       "       Windgeschwindigkeit100M  Windgeschwindigkeit152M  Windrichtung48M  \\\n",
       "52503                   5.9475                     6.58           269.25   \n",
       "52504                   6.0900                     6.73           269.00   \n",
       "52505                   6.0900                     6.73           269.00   \n",
       "52506                   6.0900                     6.73           269.00   \n",
       "52507                   6.0900                     6.73           269.00   \n",
       "\n",
       "       Windrichtung100M   ...    Windgeschwindigkeit100MP30  \\\n",
       "52503            271.25   ...                        5.4325   \n",
       "52504            271.00   ...                        5.5700   \n",
       "52505            271.00   ...                        5.5700   \n",
       "52506            271.00   ...                        5.5700   \n",
       "52507            271.00   ...                        5.5700   \n",
       "\n",
       "       Windgeschwindigkeit100MP40  Windgeschwindigkeit100MP50  \\\n",
       "52503                        5.73                      6.0125   \n",
       "52504                        5.87                      6.1600   \n",
       "52505                        5.87                      6.1600   \n",
       "52506                        5.87                      6.1600   \n",
       "52507                        5.87                      6.1600   \n",
       "\n",
       "       Windgeschwindigkeit100MP60  Windgeschwindigkeit100MP70  \\\n",
       "52503                      6.2125                      6.4175   \n",
       "52504                      6.3600                      6.5700   \n",
       "52505                      6.3600                      6.5700   \n",
       "52506                      6.3600                      6.5700   \n",
       "52507                      6.3600                      6.5700   \n",
       "\n",
       "       Windgeschwindigkeit100MP80  Windgeschwindigkeit100MP90  Interpoliert  \\\n",
       "52503                      6.7325                      7.2175             1   \n",
       "52504                      6.8700                      7.3500             0   \n",
       "52505                      6.8700                      7.3500             1   \n",
       "52506                      6.8700                      7.3500             1   \n",
       "52507                      6.8700                      7.3500             1   \n",
       "\n",
       "       Verfügbare_Kapazität  Output  \n",
       "52503              119000.0   13688  \n",
       "52504              119000.0   17624  \n",
       "52505              119000.0   18528  \n",
       "52506              119000.0   15836  \n",
       "52507              119000.0   15712  \n",
       "\n",
       "[5 rows x 23 columns]"
      ]
     },
     "execution_count": 7,
     "metadata": {},
     "output_type": "execute_result"
    }
   ],
   "source": [
    "data.tail()"
   ]
  },
  {
   "cell_type": "code",
   "execution_count": 8,
   "metadata": {},
   "outputs": [
    {
     "data": {
      "image/png": "[encoded data removed]",
      "text/plain": [
       "<Figure size 360x72 with 1 Axes>"
      ]
     },
     "metadata": {},
     "output_type": "display_data"
    }
   ],
   "source": [
    "import seaborn as sns\n",
    "colors = [\"windows blue\", \"amber\", \"greyish\", \"faded green\", \"dusty purple\"]\n",
    "mycmap = sns.palplot(sns.xkcd_palette(colors))"
   ]
  },
  {
   "cell_type": "code",
   "execution_count": 9,
   "metadata": {},
   "outputs": [],
   "source": [
    "#Data Visualization "
   ]
  },
  {
   "cell_type": "code",
   "execution_count": 10,
   "metadata": {},
   "outputs": [
    {
     "data": {
      "text/plain": [
       "<matplotlib.axes._subplots.AxesSubplot at 0x7f617c0b30b8>"
      ]
     },
     "execution_count": 10,
     "metadata": {},
     "output_type": "execute_result"
    },
    {
     "data": {
      "image/png": "[encoded data removed]",
      "text/plain": [
       "<Figure size 1008x432 with 1 Axes>"
      ]
     },
     "metadata": {},
     "output_type": "display_data"
    }
   ],
   "source": [
    "#Average Output per Month\n",
    "plt.rcParams[\"figure.figsize\"] = (14,6)\n",
    "outputpermonth_avg = data.groupby(['Year','Month'])[['Output']].mean()\n",
    "outputpermonth_avg.plot(kind='bar', title = 'Average Output per Month', cmap=mycmap)"
   ]
  },
  {
   "cell_type": "code",
   "execution_count": 11,
   "metadata": {},
   "outputs": [],
   "source": [
    "#Average Windspeed of 48m / 100m / 152m\n",
    "windspeed = (data['Windgeschwindigkeit48M'] + data['Windgeschwindigkeit100M'] + data['Windgeschwindigkeit152M'])/3\n",
    "data['windspeed'] = windspeed"
   ]
  },
  {
   "cell_type": "code",
   "execution_count": 12,
   "metadata": {},
   "outputs": [
    {
     "data": {
      "text/plain": [
       "<matplotlib.axes._subplots.AxesSubplot at 0x7f617bd2e160>"
      ]
     },
     "execution_count": 12,
     "metadata": {},
     "output_type": "execute_result"
    },
    {
     "data": {
      "image/png": "[encoded data removed]",
      "text/plain": [
       "<Figure size 1008x432 with 1 Axes>"
      ]
     },
     "metadata": {},
     "output_type": "display_data"
    }
   ],
   "source": [
    "windspeedmonth_avg = data.groupby(['Year','Month'])['windspeed'].mean()\n",
    "windspeedmonth_avg.plot(kind='bar', title='Average Windspeed per month')"
   ]
  },
  {
   "cell_type": "code",
   "execution_count": 30,
   "metadata": {},
   "outputs": [
    {
     "data": {
      "text/plain": [
       "<matplotlib.axes._subplots.AxesSubplot at 0x7f6166316780>"
      ]
     },
     "execution_count": 30,
     "metadata": {},
     "output_type": "execute_result"
    },
    {
     "data": {
      "image/png": "[encoded data removed]",
      "text/plain": [
       "<Figure size 1008x432 with 1 Axes>"
      ]
     },
     "metadata": {},
     "output_type": "display_data"
    }
   ],
   "source": [
    "#Average Windspeed of 48m / 100m / 152m\n",
    "winddirection = (data['Windrichtung48M'] + data['Windrichtung100M'] + data['Windrichtung152M'])/3\n",
    "data['winddirection'] = winddirection\n",
    "winddirectionmonth_avg = data.groupby(['Year','Month'])['winddirection'].mean()\n",
    "winddirectionmonth_avg.plot(kind='bar', title='Average Wind Direction per month')"
   ]
  },
  {
   "cell_type": "code",
   "execution_count": 31,
   "metadata": {},
   "outputs": [
    {
     "data": {
      "text/plain": [
       "<matplotlib.axes._subplots.AxesSubplot at 0x7f61661f1da0>"
      ]
     },
     "execution_count": 31,
     "metadata": {},
     "output_type": "execute_result"
    },
    {
     "data": {
      "image/png": "[encoded data removed]",
      "text/plain": [
       "<Figure size 1008x432 with 1 Axes>"
      ]
     },
     "metadata": {},
     "output_type": "display_data"
    }
   ],
   "source": [
    "outputperhour_avg = data.groupby(['Hour'])['Output'].mean()\n",
    "outputperhour_avg.plot(kind='bar', title='Average Output per hour')"
   ]
  },
  {
   "cell_type": "code",
   "execution_count": 32,
   "metadata": {},
   "outputs": [
    {
     "data": {
      "text/plain": [
       "<matplotlib.axes._subplots.AxesSubplot at 0x7f61661ca3c8>"
      ]
     },
     "execution_count": 32,
     "metadata": {},
     "output_type": "execute_result"
    },
    {
     "data": {
      "image/png": "[encoded data removed]",
      "text/plain": [
       "<Figure size 1008x432 with 1 Axes>"
      ]
     },
     "metadata": {},
     "output_type": "display_data"
    }
   ],
   "source": [
    "windspeedperhour_avg = data.groupby(['Hour'])['windspeed'].mean()\n",
    "windspeedperhour_avg.plot(kind='bar', title='Average windspeed per hour')"
   ]
  },
  {
   "cell_type": "code",
   "execution_count": 34,
   "metadata": {},
   "outputs": [
    {
     "data": {
      "text/plain": [
       "<matplotlib.axes._subplots.AxesSubplot at 0x7f6165ec2ef0>"
      ]
     },
     "execution_count": 34,
     "metadata": {},
     "output_type": "execute_result"
    },
    {
     "data": {
      "image/png": "[encoded data removed]",
      "text/plain": [
       "<Figure size 864x576 with 2 Axes>"
      ]
     },
     "metadata": {},
     "output_type": "display_data"
    }
   ],
   "source": [
    "# Heatmap of output by Month and Hour\n",
    "heat = data.groupby(['Month','Hour'], as_index=False)[['Output']].mean()\n",
    "heatpivot = heat.pivot('Month','Hour','Output')\n",
    "f, ax = plt.subplots(figsize=(12, 8))\n",
    "sns.heatmap(heatpivot, annot=False, fmt=\"d\", linewidths=.12, ax=None, cbar_ax = None, cmap=\"Blues\")"
   ]
  },
  {
   "cell_type": "code",
   "execution_count": 42,
   "metadata": {},
   "outputs": [],
   "source": [
    "#Candle Stick: Daily OHLC(Open, High, Low, Close)\n",
    "outputperday_high = data.groupby(['Year','Month','Day'])[['Output']].max()\n",
    "outputperday_low = data.groupby(['Year','Month','Day'])['Output'].min()\n",
    "outputperday_first = data.groupby(['Year','Month','Day'])['Output'].first()\n",
    "outputperday_last = data.groupby(['Year','Month','Day'])['Output'].last()"
   ]
  },
  {
   "cell_type": "code",
   "execution_count": 43,
   "metadata": {},
   "outputs": [],
   "source": [
    "datereset = outputperday_high.reset_index()\n",
    "dateindex = []\n",
    "for i in range(len(outputperday_high)):\n",
    "    dateindex.append(datetime.date(datereset.Year[i], datereset.Month[i], datereset.Day[i]))"
   ]
  },
  {
   "cell_type": "code",
   "execution_count": 17,
   "metadata": {},
   "outputs": [
    {
     "data": {
      "text/html": [
       "<iframe id=\"igraph\" scrolling=\"no\" style=\"border:none;\" seamless=\"seamless\" src=\"https://plot.ly/~shinjjo/16.embed\" height=\"525px\" width=\"100%\"></iframe>"
      ],
      "text/plain": [
       "<plotly.tools.PlotlyDisplay object>"
      ]
     },
     "execution_count": 17,
     "metadata": {},
     "output_type": "execute_result"
    }
   ],
   "source": [
    "import plotly\n",
    "import plotly.plotly as py\n",
    "import plotly.graph_objs as go\n",
    "plotly.tools.set_credentials_file(username='shinjjo', api_key = 's3ulHJw8GjbATqtV5lH9')\n",
    "candle = go.Candlestick(x=dateindex,\n",
    "                       open= outputperday_first.get_values() ,\n",
    "                       high= outputperday_high.get_values(),\n",
    "                       low= outputperday_low.get_values(),\n",
    "                       close= outputperday_last.get_values(),\n",
    "                       increasing=dict(line=dict(color= '#17BECF')),\n",
    "                       decreasing=dict(line=dict(color= '#7F7F7F')))\n",
    "candledata = [candle]\n",
    "py.iplot(candledata, filename='styled_candlestick')"
   ]
  },
  {
   "cell_type": "code",
   "execution_count": 18,
   "metadata": {},
   "outputs": [
    {
     "data": {
      "text/html": [
       "<div>\n",
       "<style scoped>\n",
       "    .dataframe tbody tr th:only-of-type {\n",
       "        vertical-align: middle;\n",
       "    }\n",
       "\n",
       "    .dataframe tbody tr th {\n",
       "        vertical-align: top;\n",
       "    }\n",
       "\n",
       "    .dataframe thead th {\n",
       "        text-align: right;\n",
       "    }\n",
       "</style>\n",
       "<table border=\"1\" class=\"dataframe\">\n",
       "  <thead>\n",
       "    <tr style=\"text-align: right;\">\n",
       "      <th></th>\n",
       "      <th>Year</th>\n",
       "      <th>Month</th>\n",
       "      <th>Day</th>\n",
       "      <th>Hour</th>\n",
       "      <th>Min</th>\n",
       "      <th>Windgeschwindigkeit48M</th>\n",
       "      <th>Windgeschwindigkeit100M</th>\n",
       "      <th>Windgeschwindigkeit152M</th>\n",
       "      <th>Windrichtung48M</th>\n",
       "      <th>Windrichtung100M</th>\n",
       "      <th>...</th>\n",
       "      <th>Windgeschwindigkeit100MP40</th>\n",
       "      <th>Windgeschwindigkeit100MP50</th>\n",
       "      <th>Windgeschwindigkeit100MP60</th>\n",
       "      <th>Windgeschwindigkeit100MP70</th>\n",
       "      <th>Windgeschwindigkeit100MP80</th>\n",
       "      <th>Windgeschwindigkeit100MP90</th>\n",
       "      <th>Interpoliert</th>\n",
       "      <th>Verfügbare_Kapazität</th>\n",
       "      <th>Output</th>\n",
       "      <th>windspeed</th>\n",
       "    </tr>\n",
       "  </thead>\n",
       "  <tbody>\n",
       "    <tr>\n",
       "      <th>0</th>\n",
       "      <td>2016</td>\n",
       "      <td>1</td>\n",
       "      <td>1</td>\n",
       "      <td>0</td>\n",
       "      <td>0</td>\n",
       "      <td>8.490</td>\n",
       "      <td>10.7700</td>\n",
       "      <td>12.690</td>\n",
       "      <td>188.00</td>\n",
       "      <td>190.0</td>\n",
       "      <td>...</td>\n",
       "      <td>10.43</td>\n",
       "      <td>10.78</td>\n",
       "      <td>11.0500</td>\n",
       "      <td>11.5400</td>\n",
       "      <td>11.940</td>\n",
       "      <td>12.4200</td>\n",
       "      <td>0</td>\n",
       "      <td>122400.0</td>\n",
       "      <td>79168</td>\n",
       "      <td>10.650000</td>\n",
       "    </tr>\n",
       "    <tr>\n",
       "      <th>1</th>\n",
       "      <td>2016</td>\n",
       "      <td>1</td>\n",
       "      <td>1</td>\n",
       "      <td>0</td>\n",
       "      <td>15</td>\n",
       "      <td>8.395</td>\n",
       "      <td>10.6175</td>\n",
       "      <td>12.475</td>\n",
       "      <td>190.75</td>\n",
       "      <td>193.0</td>\n",
       "      <td>...</td>\n",
       "      <td>10.31</td>\n",
       "      <td>10.63</td>\n",
       "      <td>10.9275</td>\n",
       "      <td>11.3875</td>\n",
       "      <td>11.815</td>\n",
       "      <td>12.3125</td>\n",
       "      <td>1</td>\n",
       "      <td>122400.0</td>\n",
       "      <td>75124</td>\n",
       "      <td>10.495833</td>\n",
       "    </tr>\n",
       "    <tr>\n",
       "      <th>2</th>\n",
       "      <td>2016</td>\n",
       "      <td>1</td>\n",
       "      <td>1</td>\n",
       "      <td>0</td>\n",
       "      <td>30</td>\n",
       "      <td>8.300</td>\n",
       "      <td>10.4650</td>\n",
       "      <td>12.260</td>\n",
       "      <td>193.50</td>\n",
       "      <td>196.0</td>\n",
       "      <td>...</td>\n",
       "      <td>10.19</td>\n",
       "      <td>10.48</td>\n",
       "      <td>10.8050</td>\n",
       "      <td>11.2350</td>\n",
       "      <td>11.690</td>\n",
       "      <td>12.2050</td>\n",
       "      <td>1</td>\n",
       "      <td>122400.0</td>\n",
       "      <td>76072</td>\n",
       "      <td>10.341667</td>\n",
       "    </tr>\n",
       "    <tr>\n",
       "      <th>3</th>\n",
       "      <td>2016</td>\n",
       "      <td>1</td>\n",
       "      <td>1</td>\n",
       "      <td>0</td>\n",
       "      <td>45</td>\n",
       "      <td>8.205</td>\n",
       "      <td>10.3125</td>\n",
       "      <td>12.045</td>\n",
       "      <td>196.25</td>\n",
       "      <td>199.0</td>\n",
       "      <td>...</td>\n",
       "      <td>10.07</td>\n",
       "      <td>10.33</td>\n",
       "      <td>10.6825</td>\n",
       "      <td>11.0825</td>\n",
       "      <td>11.565</td>\n",
       "      <td>12.0975</td>\n",
       "      <td>1</td>\n",
       "      <td>122400.0</td>\n",
       "      <td>67964</td>\n",
       "      <td>10.187500</td>\n",
       "    </tr>\n",
       "    <tr>\n",
       "      <th>4</th>\n",
       "      <td>2016</td>\n",
       "      <td>1</td>\n",
       "      <td>1</td>\n",
       "      <td>1</td>\n",
       "      <td>0</td>\n",
       "      <td>8.110</td>\n",
       "      <td>10.1600</td>\n",
       "      <td>11.830</td>\n",
       "      <td>199.00</td>\n",
       "      <td>202.0</td>\n",
       "      <td>...</td>\n",
       "      <td>9.95</td>\n",
       "      <td>10.18</td>\n",
       "      <td>10.5600</td>\n",
       "      <td>10.9300</td>\n",
       "      <td>11.440</td>\n",
       "      <td>11.9900</td>\n",
       "      <td>0</td>\n",
       "      <td>122400.0</td>\n",
       "      <td>69988</td>\n",
       "      <td>10.033333</td>\n",
       "    </tr>\n",
       "  </tbody>\n",
       "</table>\n",
       "<p>5 rows × 24 columns</p>\n",
       "</div>"
      ],
      "text/plain": [
       "   Year  Month  Day  Hour  Min  Windgeschwindigkeit48M  \\\n",
       "0  2016      1    1     0    0                   8.490   \n",
       "1  2016      1    1     0   15                   8.395   \n",
       "2  2016      1    1     0   30                   8.300   \n",
       "3  2016      1    1     0   45                   8.205   \n",
       "4  2016      1    1     1    0                   8.110   \n",
       "\n",
       "   Windgeschwindigkeit100M  Windgeschwindigkeit152M  Windrichtung48M  \\\n",
       "0                  10.7700                   12.690           188.00   \n",
       "1                  10.6175                   12.475           190.75   \n",
       "2                  10.4650                   12.260           193.50   \n",
       "3                  10.3125                   12.045           196.25   \n",
       "4                  10.1600                   11.830           199.00   \n",
       "\n",
       "   Windrichtung100M    ...      Windgeschwindigkeit100MP40  \\\n",
       "0             190.0    ...                           10.43   \n",
       "1             193.0    ...                           10.31   \n",
       "2             196.0    ...                           10.19   \n",
       "3             199.0    ...                           10.07   \n",
       "4             202.0    ...                            9.95   \n",
       "\n",
       "   Windgeschwindigkeit100MP50  Windgeschwindigkeit100MP60  \\\n",
       "0                       10.78                     11.0500   \n",
       "1                       10.63                     10.9275   \n",
       "2                       10.48                     10.8050   \n",
       "3                       10.33                     10.6825   \n",
       "4                       10.18                     10.5600   \n",
       "\n",
       "   Windgeschwindigkeit100MP70  Windgeschwindigkeit100MP80  \\\n",
       "0                     11.5400                      11.940   \n",
       "1                     11.3875                      11.815   \n",
       "2                     11.2350                      11.690   \n",
       "3                     11.0825                      11.565   \n",
       "4                     10.9300                      11.440   \n",
       "\n",
       "   Windgeschwindigkeit100MP90  Interpoliert  Verfügbare_Kapazität  Output  \\\n",
       "0                     12.4200             0              122400.0   79168   \n",
       "1                     12.3125             1              122400.0   75124   \n",
       "2                     12.2050             1              122400.0   76072   \n",
       "3                     12.0975             1              122400.0   67964   \n",
       "4                     11.9900             0              122400.0   69988   \n",
       "\n",
       "   windspeed  \n",
       "0  10.650000  \n",
       "1  10.495833  \n",
       "2  10.341667  \n",
       "3  10.187500  \n",
       "4  10.033333  \n",
       "\n",
       "[5 rows x 24 columns]"
      ]
     },
     "execution_count": 18,
     "metadata": {},
     "output_type": "execute_result"
    }
   ],
   "source": [
    "data.head()"
   ]
  },
  {
   "cell_type": "code",
   "execution_count": 19,
   "metadata": {},
   "outputs": [
    {
     "data": {
      "text/plain": [
       "120520"
      ]
     },
     "execution_count": 19,
     "metadata": {},
     "output_type": "execute_result"
    }
   ],
   "source": [
    "data.Output.max()"
   ]
  },
  {
   "cell_type": "code",
   "execution_count": 20,
   "metadata": {},
   "outputs": [
    {
     "data": {
      "text/plain": [
       "0.0"
      ]
     },
     "execution_count": 20,
     "metadata": {},
     "output_type": "execute_result"
    }
   ],
   "source": [
    "data.Windrichtung48M.min()"
   ]
  },
  {
   "cell_type": "code",
   "execution_count": 21,
   "metadata": {},
   "outputs": [
    {
     "data": {
      "text/html": [
       "<iframe id=\"igraph\" scrolling=\"no\" style=\"border:none;\" seamless=\"seamless\" src=\"https://plot.ly/~shinjjo/18.embed\" height=\"525px\" width=\"100%\"></iframe>"
      ],
      "text/plain": [
       "<plotly.tools.PlotlyDisplay object>"
      ]
     },
     "execution_count": 21,
     "metadata": {},
     "output_type": "execute_result"
    }
   ],
   "source": [
    "\n",
    "parallel = [\n",
    "    go.Parcoords(\n",
    "        line = dict(color = 'blue'),\n",
    "        dimensions = list([\n",
    "            dict(range = [0,24],\n",
    "                 constraintrange = [1,4],\n",
    "                 label = 'Windgeschwindigkeit48M', values = data.Windgeschwindigkeit48M[0:10000]),\n",
    "            dict(range = [0,24],\n",
    "                 label = 'Windgeschwindigkeit100M', values = data.Windgeschwindigkeit100M[0:10000]),\n",
    "            dict(range = [0,24],\n",
    "                 constraintrange = [1,4],\n",
    "                 label = 'Windgeschwindigkeit152M', values = data.Windgeschwindigkeit152M[0:10000]),\n",
    "            dict(range = [-1700,121000],\n",
    "                 label = 'Output', values = data.Output[0:10000])\n",
    "        ])\n",
    "    )\n",
    "]\n",
    "\n",
    "py.iplot(parallel, filename = 'parcoord-dimensions')"
   ]
  },
  {
   "cell_type": "code",
   "execution_count": 44,
   "metadata": {},
   "outputs": [
    {
     "data": {
      "text/html": [
       "<iframe id=\"igraph\" scrolling=\"no\" style=\"border:none;\" seamless=\"seamless\" src=\"https://plot.ly/~shinjjo/18.embed\" height=\"525px\" width=\"100%\"></iframe>"
      ],
      "text/plain": [
       "<plotly.tools.PlotlyDisplay object>"
      ]
     },
     "execution_count": 44,
     "metadata": {},
     "output_type": "execute_result"
    }
   ],
   "source": [
    "\n",
    "parallel_direction = [\n",
    "    go.Parcoords(\n",
    "        line = dict(color = 'blue'),\n",
    "        dimensions = list([\n",
    "            dict(range = [0,360],\n",
    "                 constraintrange = [1,4],\n",
    "                 label = 'Windrichtung48M', values = data.Windrichtung48M[0:10000]),\n",
    "            dict(range = [0,360],\n",
    "                 label = 'Windrichtung100M', values = data.Windrichtung100M[0:10000]),\n",
    "            dict(range = [0,360],\n",
    "                 constraintrange = [1,4],\n",
    "                 label = 'Windrichtung152M', values = data.Windrichtung152M[0:10000]),\n",
    "            dict(range = [-1700,121000],\n",
    "                 label = 'Output', values = data.Output[0:10000])\n",
    "        ])\n",
    "    )\n",
    "]\n",
    "\n",
    "py.iplot(parallel_direction, filename = 'parcoord-dimensions')"
   ]
  },
  {
   "cell_type": "code",
   "execution_count": 45,
   "metadata": {},
   "outputs": [
    {
     "data": {
      "text/html": [
       "<iframe id=\"igraph\" scrolling=\"no\" style=\"border:none;\" seamless=\"seamless\" src=\"https://plot.ly/~shinjjo/18.embed\" height=\"525px\" width=\"100%\"></iframe>"
      ],
      "text/plain": [
       "<plotly.tools.PlotlyDisplay object>"
      ]
     },
     "execution_count": 45,
     "metadata": {},
     "output_type": "execute_result"
    }
   ],
   "source": [
    "# Altitude Windspeed\n",
    "parallel_altitude = [\n",
    "    go.Parcoords(\n",
    "        line = dict(color = 'blue'),\n",
    "        dimensions = list([\n",
    "            dict(range = [0,22],\n",
    "                 constraintrange = [1,4],\n",
    "                 label = 'MP10', values = data.Windgeschwindigkeit100MP10[0:10000]),\n",
    "            dict(range = [0,22],\n",
    "                 label = 'MP20', values = data.Windgeschwindigkeit100MP20[0:10000]),\n",
    "            dict(range = [0,22],\n",
    "                 label = 'MP30', values = data.Windgeschwindigkeit100MP30[0:10000]),\n",
    "            dict(range = [0,22],\n",
    "                 label = '40', values = data.Windgeschwindigkeit100MP40[0:10000]),\n",
    "            dict(range = [0,22],\n",
    "                 label = 'MP50', values = data.Windgeschwindigkeit100MP50[0:10000]),\n",
    "            dict(range = [0,22],\n",
    "                 label = 'MP60', values = data.Windgeschwindigkeit100MP60[0:10000]),\n",
    "            dict(range = [0,22],\n",
    "                 label = 'MP70', values = data.Windgeschwindigkeit100MP70[0:10000]),\n",
    "            dict(range = [0,22],\n",
    "                 label = 'MP80', values = data.Windgeschwindigkeit100MP80[0:10000]),\n",
    "            dict(range = [0,22],\n",
    "                 constraintrange = [1,4],\n",
    "                 label = 'MP90', values = data.Windgeschwindigkeit100MP90[0:10000]),\n",
    "            dict(range = [-1700,121000],\n",
    "                 label = 'Output', values = data.Output[0:10000])\n",
    "        ])\n",
    "    )\n",
    "]\n",
    "\n",
    "py.iplot(parallel_altitude, filename = 'parcoord-dimensions')"
   ]
  },
  {
   "cell_type": "code",
   "execution_count": null,
   "metadata": {},
   "outputs": [],
   "source": []
  },
  {
   "cell_type": "code",
   "execution_count": 186,
   "metadata": {},
   "outputs": [
    {
     "data": {
      "text/plain": [
       "0.14"
      ]
     },
     "execution_count": 186,
     "metadata": {},
     "output_type": "execute_result"
    }
   ],
   "source": [
    "data.Windgeschwindigkeit100MP30.min()"
   ]
  },
  {
   "cell_type": "code",
   "execution_count": null,
   "metadata": {},
   "outputs": [],
   "source": []
  }
 ],
 "metadata": {
  "kernelspec": {
   "display_name": "Python 3",
   "language": "python",
   "name": "python3"
  },
  "language_info": {
   "codemirror_mode": {
    "name": "ipython",
    "version": 3
   },
   "file_extension": ".py",
   "mimetype": "text/x-python",
   "name": "python",
   "nbconvert_exporter": "python",
   "pygments_lexer": "ipython3",
   "version": "3.6.5"
  }
 },
 "nbformat": 4,
 "nbformat_minor": 2
}
